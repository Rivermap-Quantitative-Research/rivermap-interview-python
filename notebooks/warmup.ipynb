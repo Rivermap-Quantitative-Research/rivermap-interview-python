{
 "cells": [
  {
   "cell_type": "markdown",
   "id": "8a246e80",
   "metadata": {},
   "source": [
    "### Warmup Exercise"
   ]
  },
  {
   "cell_type": "markdown",
   "id": "7bd2798c",
   "metadata": {},
   "source": [
    "1. What are the main data types in Python? Can you give an example of how to convert a string to an integer?"
   ]
  },
  {
   "cell_type": "code",
   "execution_count": null,
   "id": "33361845",
   "metadata": {},
   "outputs": [],
   "source": [
    "# '123' to 123"
   ]
  },
  {
   "cell_type": "markdown",
   "id": "58440860",
   "metadata": {},
   "source": [
    "2. What are mutable/immutable objects in python? Give some example."
   ]
  },
  {
   "cell_type": "code",
   "execution_count": null,
   "id": "4797775b",
   "metadata": {},
   "outputs": [],
   "source": []
  },
  {
   "cell_type": "markdown",
   "id": "71fb021b",
   "metadata": {},
   "source": [
    "3. How would you create a list of squares for numbers 1 to 5? Can you write it both with a loop and a list comprehension?"
   ]
  },
  {
   "cell_type": "code",
   "execution_count": null,
   "id": "a9020f41",
   "metadata": {},
   "outputs": [],
   "source": [
    "# [1, 4, 9, 16, 25]"
   ]
  },
  {
   "cell_type": "markdown",
   "id": "8f80dd08",
   "metadata": {},
   "source": [
    "4. How do you access a value in a dictionary? What happens if the key doesn’t exist, and how can you handle it?"
   ]
  },
  {
   "cell_type": "code",
   "execution_count": null,
   "id": "5406b124",
   "metadata": {},
   "outputs": [],
   "source": []
  },
  {
   "cell_type": "markdown",
   "id": "74fb6ad0",
   "metadata": {},
   "source": [
    "5. Write a simple function that takes two numbers and returns their sum. How would you add a default value for one parameter?"
   ]
  },
  {
   "cell_type": "code",
   "execution_count": null,
   "id": "72c0f418",
   "metadata": {},
   "outputs": [],
   "source": []
  },
  {
   "cell_type": "markdown",
   "id": "6713dd72",
   "metadata": {},
   "source": [
    "6. Read sample population data from `data/atlantis.csv` to dataframe `df`."
   ]
  },
  {
   "cell_type": "code",
   "execution_count": null,
   "id": "67ee1a2d",
   "metadata": {},
   "outputs": [],
   "source": [
    "# import pandas as pd\n",
    "# df = ..."
   ]
  },
  {
   "cell_type": "markdown",
   "id": "5dbf5acd",
   "metadata": {},
   "source": [
    "7. Add a new column `changes` to the above dataframe."
   ]
  },
  {
   "cell_type": "code",
   "execution_count": null,
   "id": "56fda736",
   "metadata": {},
   "outputs": [],
   "source": []
  },
  {
   "cell_type": "markdown",
   "id": "690b1d15",
   "metadata": {},
   "source": [
    "8. Get the years in which population changes exceed 5%."
   ]
  },
  {
   "cell_type": "code",
   "execution_count": null,
   "id": "034bf5c2",
   "metadata": {},
   "outputs": [],
   "source": []
  }
 ],
 "metadata": {
  "kernelspec": {
   "display_name": "interview",
   "language": "python",
   "name": "python3"
  },
  "language_info": {
   "codemirror_mode": {
    "name": "ipython",
    "version": 3
   },
   "file_extension": ".py",
   "mimetype": "text/x-python",
   "name": "python",
   "nbconvert_exporter": "python",
   "pygments_lexer": "ipython3",
   "version": "3.12.10"
  }
 },
 "nbformat": 4,
 "nbformat_minor": 5
}
